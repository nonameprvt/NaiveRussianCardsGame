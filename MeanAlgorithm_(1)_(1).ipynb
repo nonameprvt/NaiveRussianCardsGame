{
  "nbformat": 4,
  "nbformat_minor": 0,
  "metadata": {
    "colab": {
      "provenance": []
    },
    "kernelspec": {
      "name": "python3",
      "display_name": "Python 3"
    },
    "language_info": {
      "name": "python"
    }
  },
  "cells": [
    {
      "cell_type": "code",
      "source": [
        "from itertools import combinations\n",
        "\n",
        "import random"
      ],
      "metadata": {
        "id": "q597NXiidZo7"
      },
      "execution_count": null,
      "outputs": []
    },
    {
      "cell_type": "code",
      "execution_count": null,
      "metadata": {
        "id": "9SL8C9XRFWkJ"
      },
      "outputs": [],
      "source": [
        "# Функция для генерации областей неразличимости для каждого игрока.\n",
        "# На вход подаем карты игрока, общее количество карт в игре, количество карт у всех остальных игроков по порядку (от a до r).\n",
        "\n",
        "def get_worlds(player_cards, n, b, c, r, num):\n",
        "  all = [i+1 for i in range(n)]\n",
        "  result = []\n",
        "\n",
        "  for second_player in combinations(list(set(all) - set(player_cards)), b): # Перебираем всевозможные карты второго игрока\n",
        "    for rival in combinations(list(set(all) - set(second_player) - set(player_cards)), c): # Перебираем всевозможные карты третьего игрока\n",
        "      remaining = list(set(all) - set(player_cards) - set(second_player) - set(rival))\n",
        "      if num == 0:\n",
        "        result.append([sorted(player_cards), sorted(list(second_player)), sorted(list(rival)), sorted(remaining)])\n",
        "      elif num == 1:\n",
        "        result.append([sorted(list(second_player)), sorted(player_cards), sorted(list(rival)), sorted(remaining)])\n",
        "      else:\n",
        "        result.append([sorted(list(second_player)), sorted(list(rival)), sorted(player_cards), sorted(remaining)])\n",
        "\n",
        "  return result\n"
      ]
    },
    {
      "cell_type": "code",
      "source": [
        "# Функция для генерации всевозможных миров по входным данным\n",
        "# На вход подаем общее количество карт в игре, количество карт у всех игроков по порядку от a до r.\n",
        "\n",
        "# Механизм работы функции аналогичен предыдущей, за исключением того, что нет зафиксированного набора карт одного из игроков\n",
        "\n",
        "def get_all_worlds(n, a, b, c, r):\n",
        "  all = [i+1 for i in range(n)]\n",
        "  result = []\n",
        "\n",
        "  for first_player in combinations(all, a):\n",
        "    for second_player in combinations(list(set(all) - set(first_player)), b):\n",
        "      for rival in combinations(list(set(all) - set(second_player) - set(first_player)), c):\n",
        "        remaining = list(set(all) - set(first_player) - set(second_player) - set(rival))\n",
        "        result.append([sorted(list(first_player)), sorted(list(second_player)), sorted(list(rival)), sorted(remaining)])\n",
        "  return result"
      ],
      "metadata": {
        "id": "lje3pzyucd2S"
      },
      "execution_count": null,
      "outputs": []
    },
    {
      "cell_type": "code",
      "source": [
        "# Функция, проверяющая, что в каждом из миров в множестве неразличимости игрока X содержатся одинаковые карты другого игрока Y.\n",
        "# Это говорит о том, что X знает карты игрока Y\n",
        "\n",
        "def check_all_same(worlds, player_num, checker):\n",
        "  for world in worlds:\n",
        "    if world[player_num] != checker:\n",
        "      return 0\n",
        "  return 1"
      ],
      "metadata": {
        "id": "3WcApdRfVYfN"
      },
      "execution_count": null,
      "outputs": []
    },
    {
      "cell_type": "code",
      "source": [
        "# Функции определяющие победителя, а также регулирующие продолжение движения по циклу.\n",
        "\n",
        "def winAB(A_suggested, B_suggested, A_real, B_real):\n",
        "  if check_all_same(A_suggested, 1, B_real) or check_all_same(B_suggested, 0, A_real): # Победа игроков A и B\n",
        "    return 1\n",
        "  return 0\n",
        "\n",
        "def winC(C_suggested, A_real, B_real):\n",
        "  if check_all_same(C_suggested, 0, A_real) or check_all_same(C_suggested, 1, B_real): # Победа игрока C\n",
        "    return 1\n",
        "  return 0"
      ],
      "metadata": {
        "id": "GzYm4rNOePXW"
      },
      "execution_count": null,
      "outputs": []
    },
    {
      "cell_type": "code",
      "source": [
        "def turn(all, A, B, C, num):\n",
        "  cur = random.choice(all[num]) # Выбираем рандомный мир из базы (реальный оттуда удалили изначально)\n",
        "  if cur in A:\n",
        "    A.remove(cur) # Если A считает мир cur возможным, удаляем его\n",
        "  if cur in B:\n",
        "    B.remove(cur) # Если B считает мир cur возможным, удаляем его\n",
        "  if cur in C:\n",
        "    C.remove(cur) # Если C считает мир cur возможным, удаляем его\n",
        "\n",
        "  if cur in all[0]:\n",
        "    all[0].remove(cur) # Удаляем мир из общей базы миров A\n",
        "  if cur in all[1]:\n",
        "    all[1].remove(cur) # Удаляем мир из общей базы миров B\n",
        "  if cur in all[2]:\n",
        "    all[2].remove(cur) # Удаляем мир из общей базы миров C"
      ],
      "metadata": {
        "id": "38_gh6a-e5rG"
      },
      "execution_count": null,
      "outputs": []
    },
    {
      "cell_type": "code",
      "source": [
        "# Простая функция для удаления предполагаемых миров из общей базы\n",
        "\n",
        "def delete_suggested(all, suggested):\n",
        "  for world in suggested:\n",
        "    all.remove(world)\n",
        "  return all"
      ],
      "metadata": {
        "id": "wqLvvAgvXsOu"
      },
      "execution_count": null,
      "outputs": []
    },
    {
      "cell_type": "code",
      "source": [
        "def game(n, a, b, c, r):\n",
        "  real_world = [i+1 for i in range(n)]\n",
        "  random.shuffle(real_world) # Получаем распределение карт в реальном мире случайным образом.\n",
        "\n",
        "  # Получаем карты у каждого игрока на руках по отдельности.\n",
        "  A_real = sorted(real_world[:a])\n",
        "  B_real = sorted(real_world[a:a+b])\n",
        "  C_real = sorted(real_world[a+b:a+b+c])\n",
        "  R_real = sorted(real_world[a+b+c:])\n",
        "  tmp = [A_real, B_real, C_real, R_real] # Формируем реальный мир вида [[A], [B], [C], [R]], так как все группы миров в дальнейшем будут в таком же формате\n",
        "\n",
        "  # Получаем множества неразличимых миров для каждого игрока по отдельности.\n",
        "  A_suggested = get_worlds(A_real, n, b, c, r, 0)\n",
        "  B_suggested = get_worlds(B_real, n, a, c, r, 1)\n",
        "  C_suggested = get_worlds(C_real, n, a, b, r, 2)\n",
        "\n",
        "  # Получаем весь список возможных миров при входных данных n, a, b, c, r\n",
        "  # и удаляем из общего списка те миры, которые агенты не стали бы удалять.\n",
        "  all_worlds_A_tmp = get_all_worlds(n, a, b, c, r)\n",
        "  all_worlds_B_tmp = get_all_worlds(n, a, b, c, r)\n",
        "  all_worlds_C_tmp = get_all_worlds(n, a, b, c, r)\n",
        "\n",
        "  all_worlds_A = delete_suggested(all_worlds_A_tmp, A_suggested)\n",
        "  all_worlds_B = delete_suggested(all_worlds_B_tmp, B_suggested)\n",
        "  all_worlds_C = delete_suggested(all_worlds_C_tmp, C_suggested)\n",
        "\n",
        "  # Продолжаем ходы до тех пор, пока кто-то из агентов не победит или мы не получим ничью.\n",
        "  while not winAB(A_suggested, B_suggested, A_real, B_real) and not winC(C_suggested, A_real, B_real):\n",
        "    if len(all_worlds_A) == 0:\n",
        "      break\n",
        "    turn([all_worlds_A, all_worlds_B, all_worlds_C], A_suggested, B_suggested, C_suggested, 0)\n",
        "    if len(all_worlds_B) == 0:\n",
        "      break\n",
        "    turn([all_worlds_A, all_worlds_B, all_worlds_C], A_suggested, B_suggested, C_suggested, 1)\n",
        "    if len(all_worlds_C) == 0:\n",
        "      break\n",
        "    turn([all_worlds_A, all_worlds_B, all_worlds_C], A_suggested, B_suggested, C_suggested, 2)\n",
        "\n",
        "  # По результату функции win можем однозначно определить победителя.\n",
        "  if winAB(A_suggested, B_suggested, A_real, B_real) and not winC(C_suggested, A_real, B_real):\n",
        "    return 1\n",
        "  else:\n",
        "    return 0"
      ],
      "metadata": {
        "id": "ZkOmsdRdmLQG"
      },
      "execution_count": null,
      "outputs": []
    },
    {
      "cell_type": "code",
      "source": [
        "def generate_m_games():\n",
        "  print(\"Введите количество игр: \")\n",
        "  m = int(input())\n",
        "  print(\"Введите входные данные в формате n a b c r через пробел: \")\n",
        "  n, a, b, c, r = map(int, input().split())\n",
        "  result = 0\n",
        "\n",
        "  for i in range(m):\n",
        "    result += game(n, a, b, c, r)\n",
        "\n",
        "  return result\n"
      ],
      "metadata": {
        "id": "6XcB6Uewlly-"
      },
      "execution_count": null,
      "outputs": []
    },
    {
      "cell_type": "code",
      "source": [
        "generate_m_games()"
      ],
      "metadata": {
        "colab": {
          "base_uri": "https://localhost:8080/"
        },
        "id": "yE4JkdQ0Zai4",
        "outputId": "37134ce3-3217-477c-a061-f79b843ac95b"
      },
      "execution_count": null,
      "outputs": [
        {
          "name": "stdout",
          "output_type": "stream",
          "text": [
            "Введите количество игр: \n",
            "1000\n",
            "Введите входные данные в формате n a b c r через пробел: \n",
            "8 3 3 1 1\n"
          ]
        },
        {
          "output_type": "execute_result",
          "data": {
            "text/plain": [
              "866"
            ]
          },
          "metadata": {},
          "execution_count": 12
        }
      ]
    }
  ]
}